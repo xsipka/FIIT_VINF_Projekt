{
 "cells": [
  {
   "cell_type": "code",
   "execution_count": 1,
   "metadata": {
    "pycharm": {
     "is_executing": true
    }
   },
   "outputs": [],
   "source": [
    "import findspark\n",
    "findspark.init()\n",
    "\n",
    "import pyspark\n",
    "from pyspark.sql import SparkSession\n",
    "from pyspark.sql.types import *\n",
    "from pyspark.sql.functions import col, UserDefinedFunction\n",
    "from pyspark.sql.types import StringType\n",
    "\n",
    "import my_pyspark_parser as parser"
   ]
  },
  {
   "cell_type": "code",
   "execution_count": 2,
   "metadata": {},
   "outputs": [],
   "source": [
    "WIKI_PATH = 'datasets/'\n",
    "WIKI_FILE = 'output_wiki_en_02.csv'\n",
    "\n",
    "IN_PATH = 'datasets/raw data/'\n",
    "IN_FILE = 'en_wiki_complete.xml'\n",
    "\n",
    "TEST_FILE = 'wiki_sample.xml'"
   ]
  },
  {
   "cell_type": "code",
   "execution_count": 3,
   "metadata": {
    "pycharm": {
     "is_executing": true,
     "name": "#%%\n"
    }
   },
   "outputs": [],
   "source": [
    "spark = SparkSession.builder.appName('VINF Projekt')\\\n",
    "    .config('spark.jars', 'file:///D://Programy//vinf//lib//spark-xml_2.12-0.14.0.jar')\\\n",
    "    .config('spark.executor.extraClassPath', 'file:///D://Programy//vinf//lib//spark-xml_2.12-0.14.0.jar')\\\n",
    "    .config('spark.executor.extraLibrary', 'file:///D://Programy//vinf//lib//spark-xml_2.12-0.14.0.jar')\\\n",
    "    .config('spark.driver.extraClassPath', 'file:///D://Programy//vinf//lib//spark-xml_2.12-0.14.0.jar')\\\n",
    "    .getOrCreate()"
   ]
  },
  {
   "cell_type": "code",
   "execution_count": 4,
   "metadata": {
    "pycharm": {
     "name": "#%%\n"
    }
   },
   "outputs": [
    {
     "data": {
      "text/html": [
       "\n",
       "            <div>\n",
       "                <p><b>SparkSession - in-memory</b></p>\n",
       "                \n",
       "        <div>\n",
       "            <p><b>SparkContext</b></p>\n",
       "\n",
       "            <p><a href=\"http://LAPTOP-GF9KOMB1:4040\">Spark UI</a></p>\n",
       "\n",
       "            <dl>\n",
       "              <dt>Version</dt>\n",
       "                <dd><code>v3.0.3</code></dd>\n",
       "              <dt>Master</dt>\n",
       "                <dd><code>local[*]</code></dd>\n",
       "              <dt>AppName</dt>\n",
       "                <dd><code>VINF Projekt</code></dd>\n",
       "            </dl>\n",
       "        </div>\n",
       "        \n",
       "            </div>\n",
       "        "
      ],
      "text/plain": [
       "<pyspark.sql.session.SparkSession at 0x9c6c50>"
      ]
     },
     "execution_count": 4,
     "metadata": {},
     "output_type": "execute_result"
    }
   ],
   "source": [
    "spark"
   ]
  },
  {
   "cell_type": "code",
   "execution_count": 24,
   "metadata": {
    "pycharm": {
     "name": "#%%\n"
    }
   },
   "outputs": [],
   "source": [
    "root = 'mediawiki'\n",
    "row = 'page'\n",
    "\n",
    "schema = StructType([StructField('id', StringType(), True),\n",
    "                    StructField('title', StringType(), True),\n",
    "                    StructField('revision', StructType([StructField('text', StringType(), True)]))])\n",
    "\n",
    "df = spark.read.format('com.databricks.spark.xml')\\\n",
    "    .options(rootTag=root)\\\n",
    "    .options(rowTag=row)\\\n",
    "    .schema(schema)\\\n",
    "    .load(IN_PATH + TEST_FILE)"
   ]
  },
  {
   "cell_type": "code",
   "execution_count": 25,
   "metadata": {
    "pycharm": {
     "name": "#%%\n"
    }
   },
   "outputs": [],
   "source": [
    "df = df.withColumn(\"revision\", col(\"revision\").cast(\"String\"))\n",
    "df = df.withColumnRenamed(\"revision\", \"text\")"
   ]
  },
  {
   "cell_type": "code",
   "execution_count": 26,
   "metadata": {
    "pycharm": {
     "name": "#%%\n"
    }
   },
   "outputs": [
    {
     "name": "stdout",
     "output_type": "stream",
     "text": [
      "root\n",
      " |-- id: string (nullable = true)\n",
      " |-- title: string (nullable = true)\n",
      " |-- text: string (nullable = true)\n",
      "\n"
     ]
    }
   ],
   "source": [
    "df.printSchema()"
   ]
  },
  {
   "cell_type": "code",
   "execution_count": 27,
   "metadata": {
    "pycharm": {
     "name": "#%%\n"
    }
   },
   "outputs": [
    {
     "name": "stdout",
     "output_type": "stream",
     "text": [
      "+--------+--------------------+--------------------+\n",
      "|      id|               title|                text|\n",
      "+--------+--------------------+--------------------+\n",
      "|   15823|       Joseph Conrad|[{{Short descript...|\n",
      "| 5593936|          Template:'|              [peen]|\n",
      "|55882557|Template:20th Cen...|[{{#if: {{{FID<in...|\n",
      "| 2557713|       Template:Abbr|               [lol]|\n",
      "| 1501273|      Template:Audio|            [yeezus]|\n",
      "|23327809|Template:Authorit...|[{{#invoke:Author...|\n",
      "| 6594285| Template:Birth date|[<span style=\"dis...|\n",
      "|  994397| Template:Blockquote|[<templatestyles ...|\n",
      "|58109865|Template:Blockquo...|[/* {{pp-template...|\n",
      "|27461703|Template:Br separ...|[{{<includeonly>s...|\n",
      "+--------+--------------------+--------------------+\n",
      "only showing top 10 rows\n",
      "\n"
     ]
    }
   ],
   "source": [
    "df.show(10)"
   ]
  },
  {
   "cell_type": "code",
   "execution_count": 28,
   "metadata": {},
   "outputs": [],
   "source": [
    "my_udf = UserDefinedFunction(parser.save_page, StringType())\n",
    "\n",
    "df_new = df.withColumn('text', my_udf('text'))\n",
    "df_new = df_new.na.drop()"
   ]
  },
  {
   "cell_type": "code",
   "execution_count": null,
   "metadata": {},
   "outputs": [],
   "source": [
    "df_new.coalesce(1).write.format('com.databricks.spark.csv').save(WIKI_PATH + \"spark_output\", header='true')"
   ]
  }
 ],
 "metadata": {
  "kernelspec": {
   "display_name": "Python 3 (ipykernel)",
   "language": "python",
   "name": "python3"
  },
  "language_info": {
   "codemirror_mode": {
    "name": "ipython",
    "version": 3
   },
   "file_extension": ".py",
   "mimetype": "text/x-python",
   "name": "python",
   "nbconvert_exporter": "python",
   "pygments_lexer": "ipython3",
   "version": "3.7.0"
  }
 },
 "nbformat": 4,
 "nbformat_minor": 1
}